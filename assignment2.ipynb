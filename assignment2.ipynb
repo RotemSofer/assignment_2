{
 "cells": [
  {
   "cell_type": "code",
   "execution_count": 1,
   "id": "b739b5e2-6ecc-4168-a4a7-e337641c978b",
   "metadata": {
    "tags": []
   },
   "outputs": [],
   "source": [
    "import pandas as pd\n",
    "import numpy as np\n",
    "import datetime as dt\n",
    "from datetime import datetime, date, time\n",
    "from datetime import timedelta\n",
    "import matplotlib.pyplot as plt\n",
    "import seaborn as sns\n",
    "import re"
   ]
  },
  {
   "cell_type": "code",
   "execution_count": 2,
   "id": "54838623-61eb-4202-b4cb-464fc52dc3c5",
   "metadata": {
    "tags": []
   },
   "outputs": [],
   "source": [
    "datafile = \"C:\\\\Users\\\\rotes\\\\Desktop\\\\matala2_cosmetics_2019-Nov.csv\""
   ]
  },
  {
   "cell_type": "code",
   "execution_count": 42,
   "id": "ae577581-0731-4864-b80d-bc3fde7a17e5",
   "metadata": {
    "tags": []
   },
   "outputs": [
    {
     "name": "stderr",
     "output_type": "stream",
     "text": [
      "C:\\Users\\rotes\\AppData\\Local\\Temp\\ipykernel_300\\2883747046.py:1: DtypeWarning: Columns (6) have mixed types. Specify dtype option on import or set low_memory=False.\n",
      "  data = pd.read_csv(datafile)\n"
     ]
    },
    {
     "data": {
      "text/html": [
       "<div>\n",
       "<style scoped>\n",
       "    .dataframe tbody tr th:only-of-type {\n",
       "        vertical-align: middle;\n",
       "    }\n",
       "\n",
       "    .dataframe tbody tr th {\n",
       "        vertical-align: top;\n",
       "    }\n",
       "\n",
       "    .dataframe thead th {\n",
       "        text-align: right;\n",
       "    }\n",
       "</style>\n",
       "<table border=\"1\" class=\"dataframe\">\n",
       "  <thead>\n",
       "    <tr style=\"text-align: right;\">\n",
       "      <th></th>\n",
       "      <th>event_time</th>\n",
       "      <th>event_type</th>\n",
       "      <th>product_id</th>\n",
       "      <th>category_id</th>\n",
       "      <th>category_code</th>\n",
       "      <th>brand</th>\n",
       "      <th>price</th>\n",
       "      <th>user_id</th>\n",
       "      <th>user_session</th>\n",
       "    </tr>\n",
       "  </thead>\n",
       "  <tbody>\n",
       "    <tr>\n",
       "      <th>0</th>\n",
       "      <td>2019-11-01 00:00:02 UTC</td>\n",
       "      <td>view</td>\n",
       "      <td>5802432</td>\n",
       "      <td>1487580009286598681</td>\n",
       "      <td>NaN</td>\n",
       "      <td>NaN</td>\n",
       "      <td>0.32</td>\n",
       "      <td>562076640</td>\n",
       "      <td>09fafd6c-6c99-46b1-834f-33527f4de241</td>\n",
       "    </tr>\n",
       "    <tr>\n",
       "      <th>1</th>\n",
       "      <td>2019-11-01 00:00:09 UTC</td>\n",
       "      <td>cart</td>\n",
       "      <td>5844397</td>\n",
       "      <td>1487580006317032337</td>\n",
       "      <td>NaN</td>\n",
       "      <td>NaN</td>\n",
       "      <td>2.38</td>\n",
       "      <td>553329724</td>\n",
       "      <td>2067216c-31b5-455d-a1cc-af0575a34ffb</td>\n",
       "    </tr>\n",
       "    <tr>\n",
       "      <th>2</th>\n",
       "      <td>2019-11-01 00:00:10 UTC</td>\n",
       "      <td>view</td>\n",
       "      <td>5837166</td>\n",
       "      <td>1783999064103190764</td>\n",
       "      <td>NaN</td>\n",
       "      <td>pnb</td>\n",
       "      <td>22.22</td>\n",
       "      <td>556138645</td>\n",
       "      <td>57ed222e-a54a-4907-9944-5a875c2d7f4f</td>\n",
       "    </tr>\n",
       "    <tr>\n",
       "      <th>3</th>\n",
       "      <td>2019-11-01 00:00:11 UTC</td>\n",
       "      <td>cart</td>\n",
       "      <td>5876812</td>\n",
       "      <td>1487580010100293687</td>\n",
       "      <td>NaN</td>\n",
       "      <td>jessnail</td>\n",
       "      <td>3.16</td>\n",
       "      <td>564506666</td>\n",
       "      <td>186c1951-8052-4b37-adce-dd9644b1d5f7</td>\n",
       "    </tr>\n",
       "    <tr>\n",
       "      <th>4</th>\n",
       "      <td>2019-11-01 00:00:24 UTC</td>\n",
       "      <td>remove_from_cart</td>\n",
       "      <td>5826182</td>\n",
       "      <td>1487580007483048900</td>\n",
       "      <td>NaN</td>\n",
       "      <td>NaN</td>\n",
       "      <td>3.33</td>\n",
       "      <td>553329724</td>\n",
       "      <td>2067216c-31b5-455d-a1cc-af0575a34ffb</td>\n",
       "    </tr>\n",
       "    <tr>\n",
       "      <th>...</th>\n",
       "      <td>...</td>\n",
       "      <td>...</td>\n",
       "      <td>...</td>\n",
       "      <td>...</td>\n",
       "      <td>...</td>\n",
       "      <td>...</td>\n",
       "      <td>...</td>\n",
       "      <td>...</td>\n",
       "      <td>...</td>\n",
       "    </tr>\n",
       "    <tr>\n",
       "      <th>4635832</th>\n",
       "      <td>2019-11-30 23:59:46 UTC</td>\n",
       "      <td>view</td>\n",
       "      <td>5830317</td>\n",
       "      <td>1487580009496313889</td>\n",
       "      <td>NaN</td>\n",
       "      <td>NaN</td>\n",
       "      <td>4.76</td>\n",
       "      <td>457678989</td>\n",
       "      <td>ee50b160-a4db-4722-8751-6812c5b38295</td>\n",
       "    </tr>\n",
       "    <tr>\n",
       "      <th>4635833</th>\n",
       "      <td>2019-11-30 23:59:47 UTC</td>\n",
       "      <td>view</td>\n",
       "      <td>5733064</td>\n",
       "      <td>1487580004832248652</td>\n",
       "      <td>NaN</td>\n",
       "      <td>beautix</td>\n",
       "      <td>9.37</td>\n",
       "      <td>422196217</td>\n",
       "      <td>ab5e6dd5-8700-4ecc-a300-9f1eca5d1a95</td>\n",
       "    </tr>\n",
       "    <tr>\n",
       "      <th>4635834</th>\n",
       "      <td>2019-11-30 23:59:47 UTC</td>\n",
       "      <td>view</td>\n",
       "      <td>5867785</td>\n",
       "      <td>1487580007835370453</td>\n",
       "      <td>NaN</td>\n",
       "      <td>kims</td>\n",
       "      <td>31.1</td>\n",
       "      <td>572579084</td>\n",
       "      <td>d42865b7-7e04-4038-9be0-a59165625f06</td>\n",
       "    </tr>\n",
       "    <tr>\n",
       "      <th>4635835</th>\n",
       "      <td>2019-11-30 23:59:57 UTC</td>\n",
       "      <td>view</td>\n",
       "      <td>5779406</td>\n",
       "      <td>2151191071051219817</td>\n",
       "      <td>NaN</td>\n",
       "      <td>NaN</td>\n",
       "      <td>2.86</td>\n",
       "      <td>540006764</td>\n",
       "      <td>d4b5aa49-d731-40f1-92f1-277416d6e063</td>\n",
       "    </tr>\n",
       "    <tr>\n",
       "      <th>4635836</th>\n",
       "      <td>2019-11-30 23:59:58 UTC</td>\n",
       "      <td>view</td>\n",
       "      <td>5880201</td>\n",
       "      <td>2029731308699124089</td>\n",
       "      <td>NaN</td>\n",
       "      <td>rasyan</td>\n",
       "      <td>3.76</td>\n",
       "      <td>579969854</td>\n",
       "      <td>e9fa2c3e-8c9e-448c-880a-21ca57c18b3b</td>\n",
       "    </tr>\n",
       "  </tbody>\n",
       "</table>\n",
       "<p>4635837 rows × 9 columns</p>\n",
       "</div>"
      ],
      "text/plain": [
       "                      event_time        event_type  product_id   \n",
       "0        2019-11-01 00:00:02 UTC              view     5802432  \\\n",
       "1        2019-11-01 00:00:09 UTC              cart     5844397   \n",
       "2        2019-11-01 00:00:10 UTC              view     5837166   \n",
       "3        2019-11-01 00:00:11 UTC              cart     5876812   \n",
       "4        2019-11-01 00:00:24 UTC  remove_from_cart     5826182   \n",
       "...                          ...               ...         ...   \n",
       "4635832  2019-11-30 23:59:46 UTC              view     5830317   \n",
       "4635833  2019-11-30 23:59:47 UTC              view     5733064   \n",
       "4635834  2019-11-30 23:59:47 UTC              view     5867785   \n",
       "4635835  2019-11-30 23:59:57 UTC              view     5779406   \n",
       "4635836  2019-11-30 23:59:58 UTC              view     5880201   \n",
       "\n",
       "                 category_id category_code     brand  price    user_id   \n",
       "0        1487580009286598681           NaN       NaN   0.32  562076640  \\\n",
       "1        1487580006317032337           NaN       NaN   2.38  553329724   \n",
       "2        1783999064103190764           NaN       pnb  22.22  556138645   \n",
       "3        1487580010100293687           NaN  jessnail   3.16  564506666   \n",
       "4        1487580007483048900           NaN       NaN   3.33  553329724   \n",
       "...                      ...           ...       ...    ...        ...   \n",
       "4635832  1487580009496313889           NaN       NaN   4.76  457678989   \n",
       "4635833  1487580004832248652           NaN   beautix   9.37  422196217   \n",
       "4635834  1487580007835370453           NaN      kims   31.1  572579084   \n",
       "4635835  2151191071051219817           NaN       NaN   2.86  540006764   \n",
       "4635836  2029731308699124089           NaN    rasyan   3.76  579969854   \n",
       "\n",
       "                                 user_session  \n",
       "0        09fafd6c-6c99-46b1-834f-33527f4de241  \n",
       "1        2067216c-31b5-455d-a1cc-af0575a34ffb  \n",
       "2        57ed222e-a54a-4907-9944-5a875c2d7f4f  \n",
       "3        186c1951-8052-4b37-adce-dd9644b1d5f7  \n",
       "4        2067216c-31b5-455d-a1cc-af0575a34ffb  \n",
       "...                                       ...  \n",
       "4635832  ee50b160-a4db-4722-8751-6812c5b38295  \n",
       "4635833  ab5e6dd5-8700-4ecc-a300-9f1eca5d1a95  \n",
       "4635834  d42865b7-7e04-4038-9be0-a59165625f06  \n",
       "4635835  d4b5aa49-d731-40f1-92f1-277416d6e063  \n",
       "4635836  e9fa2c3e-8c9e-448c-880a-21ca57c18b3b  \n",
       "\n",
       "[4635837 rows x 9 columns]"
      ]
     },
     "execution_count": 42,
     "metadata": {},
     "output_type": "execute_result"
    }
   ],
   "source": [
    "data = pd.read_csv(datafile)\n",
    "data\n",
    "#data = data.iloc[0:1928371,:] #### slice until 2019-11-15"
   ]
  },
  {
   "cell_type": "code",
   "execution_count": 44,
   "id": "57535216-81c1-4cb6-b79e-482c2f596619",
   "metadata": {
    "tags": []
   },
   "outputs": [],
   "source": [
    "data['event_time'] = pd.to_datetime(data['event_time'])"
   ]
  },
  {
   "cell_type": "code",
   "execution_count": 17,
   "id": "79bc7de0-ef21-4413-9f59-e7255cf7a87a",
   "metadata": {
    "tags": []
   },
   "outputs": [],
   "source": [
    "#data = data[(data['event_time'] <= '2019-11-15')]\n",
    "#data"
   ]
  },
  {
   "cell_type": "markdown",
   "id": "dde6f8c6-ca45-46dc-aec9-11fe0df33b9b",
   "metadata": {
    "tags": []
   },
   "source": [
    "<h4>Question 1</h4>"
   ]
  },
  {
   "cell_type": "code",
   "execution_count": 50,
   "id": "7ea1981e-942f-43c8-9e0c-06de3d56dc55",
   "metadata": {
    "tags": []
   },
   "outputs": [],
   "source": [
    "data['duration_to_next_event'] = data.groupby(['user_session','user_id']).event_time.diff().dt.total_seconds()\n",
    "data['duration_to_next_event'] = data.groupby(['user_session','user_id'])['duration_to_next_event'].shift(-1)\n",
    "data['duration_to_next_event'] = data.duration_to_next_event.fillna(0)\n",
    "#data                                                                        "
   ]
  },
  {
   "cell_type": "markdown",
   "id": "e66c3460-e883-4810-b9ff-1e8deabcaa22",
   "metadata": {},
   "source": [
    "<h4>Question 2</h4>"
   ]
  },
  {
   "cell_type": "code",
   "execution_count": 45,
   "id": "c591c16b-f663-45b0-9040-d1ffa9918fa2",
   "metadata": {
    "tags": []
   },
   "outputs": [],
   "source": [
    "data.sort_values(by=['user_id','event_time'],inplace=True)\n",
    "data['last_visit'] = data.groupby('user_id')['event_time'].diff().dt.days\n",
    "data['funnel_number'] = np.where(data['last_visit'].fillna(0) > 5,1,0)\n",
    "data['funnel_number'] = data.groupby('user_id')['funnel_number'].cumsum()+1\n",
    "data.drop('last_visit',axis=1,inplace=True)\n"
   ]
  },
  {
   "cell_type": "markdown",
   "id": "d7eafc33-7ce2-406f-a488-7c621a1ab460",
   "metadata": {},
   "source": [
    "<h4>Question 3</h4>"
   ]
  },
  {
   "cell_type": "code",
   "execution_count": 46,
   "id": "24a5f136-5927-4559-bb2a-5f81ae06de92",
   "metadata": {
    "tags": []
   },
   "outputs": [],
   "source": [
    "data['index_in_funnel'] = data.groupby(['user_id','funnel_number']).cumcount()+1"
   ]
  },
  {
   "cell_type": "markdown",
   "id": "856cc9d3-6cf3-4baa-b5ac-f10793f0fc5f",
   "metadata": {},
   "source": [
    "<h4>Question 4</h4>"
   ]
  },
  {
   "cell_type": "code",
   "execution_count": 47,
   "id": "28293f19-cb5a-4a6f-b845-a7ebf9d1d8c6",
   "metadata": {
    "tags": []
   },
   "outputs": [],
   "source": [
    "data['price'] = data['price'].apply(lambda x: float(re.findall(r'\\d+\\.\\d+',str(x))[0]))"
   ]
  },
  {
   "cell_type": "markdown",
   "id": "9ec2bb00-6a1f-4b33-9a19-0254af3fd567",
   "metadata": {},
   "source": [
    "<h4>Question 5</h4>"
   ]
  },
  {
   "cell_type": "code",
   "execution_count": 32,
   "id": "ddc4b050-3b10-4eda-b53d-23e9157c5146",
   "metadata": {
    "tags": []
   },
   "outputs": [
    {
     "data": {
      "text/plain": [
       "<Axes: xlabel='event_type', ylabel='count'>"
      ]
     },
     "execution_count": 32,
     "metadata": {},
     "output_type": "execute_result"
    },
    {
     "data": {
      "image/png": "[encoded data removed]",
      "text/plain": [
       "<Figure size 640x480 with 1 Axes>"
      ]
     },
     "metadata": {},
     "output_type": "display_data"
    }
   ],
   "source": [
    "sns.countplot(x='event_type', data=data)"
   ]
  },
  {
   "cell_type": "markdown",
   "id": "7cca31e9-be21-4324-8a1f-8046d4b17bdc",
   "metadata": {},
   "source": [
    "<h4>Question 6</h4>"
   ]
  },
  {
   "cell_type": "code",
   "execution_count": 128,
   "id": "a37fb5e8-58be-4ba4-8767-23b6e5f7a60c",
   "metadata": {
    "tags": []
   },
   "outputs": [],
   "source": [
    "session_data = data.copy()\n",
    "session_data = session_data.reindex(columns=['user_session','user_id','event_time','event_type','product_id','funnel_number','index_in_funnel','duration_to_next_event'])\n",
    "session_data = session_data.drop_duplicates(subset='user_session')\n",
    "session_data = session_data.reset_index()\n",
    "session_data.drop('index',axis=1,inplace=True)\n",
    "#session_data"
   ]
  },
  {
   "cell_type": "code",
   "execution_count": 120,
   "id": "fc26504f-a5ae-4ad7-8946-72aff36ef72a",
   "metadata": {
    "tags": []
   },
   "outputs": [],
   "source": [
    "session_data['total_events'] = session_data.groupby(['user_id','user_session'])['event_time'].cumcount()+1\n",
    "session_data['total_web_time'] = session_data.groupby(['user_id','user_session'])['duration_to_next_event'].cumsum()"
   ]
  },
  {
   "cell_type": "code",
   "execution_count": 132,
   "id": "908f4682-ac42-49d4-9354-411f7eb527a9",
   "metadata": {
    "tags": []
   },
   "outputs": [],
   "source": [
    "session_data['list_of_viewed'] = session_data[session_data['event_type'] == 'view'].groupby(['user_id','user_session'])['product_id'].agg(list).reset_index()['product_id']"
   ]
  },
  {
   "cell_type": "code",
   "execution_count": 133,
   "id": "7243cbf1-bda4-4ae6-8464-64f123aef9c1",
   "metadata": {
    "tags": []
   },
   "outputs": [],
   "source": [
    "#session_data['event_type'].unique()"
   ]
  },
  {
   "cell_type": "code",
   "execution_count": 134,
   "id": "17891f36-5d18-4fc7-903c-e63741ce032c",
   "metadata": {
    "tags": []
   },
   "outputs": [],
   "source": [
    "session_data['list_of_added_to_cart'] = session_data[session_data['event_type'] == 'cart'].groupby(['user_id','user_session'])['product_id'].agg(list).reset_index()['product_id']\n",
    "session_data['list_of_purchased'] = session_data[session_data['event_type'] == 'purchase'].groupby(['user_id','user_session'])['product_id'].agg(list).reset_index()['product_id']"
   ]
  },
  {
   "cell_type": "code",
   "execution_count": 135,
   "id": "6ca6e0f3-c603-4c9f-96a3-bd0e9eb7e4c8",
   "metadata": {
    "tags": []
   },
   "outputs": [],
   "source": [
    "session_data = session_data.drop(columns=['event_type','product_id','duration_to_next_event','event_time'])"
   ]
  },
  {
   "cell_type": "code",
   "execution_count": 136,
   "id": "6e5570a2-7058-4142-8732-6b8ec0145813",
   "metadata": {
    "tags": []
   },
   "outputs": [
    {
     "name": "stdout",
     "output_type": "stream",
     "text": [
      "115772\n",
      "859557\n",
      "938006\n"
     ]
    }
   ],
   "source": [
    "print(session_data['list_of_viewed'].isnull().sum())\n",
    "print(session_data['list_of_added_to_cart'].isnull().sum())\n",
    "print(session_data['list_of_purchased'].isnull().sum())"
   ]
  },
  {
   "cell_type": "code",
   "execution_count": null,
   "id": "a1251274-5b99-49e7-bf12-24092722d5b0",
   "metadata": {},
   "outputs": [],
   "source": []
  }
 ],
 "metadata": {
  "kernelspec": {
   "display_name": "Python 3 (ipykernel)",
   "language": "python",
   "name": "python3"
  },
  "language_info": {
   "codemirror_mode": {
    "name": "ipython",
    "version": 3
   },
   "file_extension": ".py",
   "mimetype": "text/x-python",
   "name": "python",
   "nbconvert_exporter": "python",
   "pygments_lexer": "ipython3",
   "version": "3.11.3"
  }
 },
 "nbformat": 4,
 "nbformat_minor": 5
}
